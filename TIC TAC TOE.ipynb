{
 "cells": [
  {
   "cell_type": "code",
   "execution_count": 1,
   "metadata": {},
   "outputs": [],
   "source": [
    "from IPython.display import clear_output\n",
    "\n",
    "def display_board(board):\n",
    "    print (' '+'|'+' '+'|'+' ')\n",
    "    print (board[1]+'|'+board[2]+'|'+board[3])\n",
    "    print (' '+'|'+' '+'|'+' ')\n",
    "    print ('--'+'--'+'--')\n",
    "    print (' '+'|'+' '+'|'+' ')\n",
    "    print (board[4]+'|'+board[5]+'|'+board[6])\n",
    "    print (' '+'|'+' '+'|'+' ')\n",
    "    print ('--'+'--'+'--')\n",
    "    print (' '+'|'+' '+'|'+' ')\n",
    "    print (board[7]+'|'+board[8]+'|'+board[9])\n",
    "    print (' '+'|'+' '+'|'+' ')"
   ]
  },
  {
   "cell_type": "code",
   "execution_count": 2,
   "metadata": {},
   "outputs": [],
   "source": [
    "def player_input():\n",
    "    v=''\n",
    "    while not (v=='x' or v=='o'):\n",
    "        v=input('Enter 1st Choice:')\n",
    "    if v=='x':\n",
    "        return ('x','o')\n",
    "    else:\n",
    "        return ('o','x')"
   ]
  },
  {
   "cell_type": "code",
   "execution_count": 3,
   "metadata": {},
   "outputs": [],
   "source": [
    "def place_marker(board, marker, position):\n",
    "    board[position] = marker"
   ]
  },
  {
   "cell_type": "code",
   "execution_count": 4,
   "metadata": {},
   "outputs": [],
   "source": [
    "def win_check(board,mark):\n",
    "    \n",
    "    return ((board[7] == mark and board[8] == mark and board[9] == mark) or \n",
    "    (board[4] == mark and board[5] == mark and board[6] == mark) or \n",
    "    (board[1] == mark and board[2] == mark and board[3] == mark) or\n",
    "    (board[7] == mark and board[4] == mark and board[1] == mark) or\n",
    "    (board[8] == mark and board[5] == mark and board[2] == mark) or \n",
    "    (board[9] == mark and board[6] == mark and board[3] == mark) or\n",
    "    (board[7] == mark and board[5] == mark and board[3] == mark) or \n",
    "    (board[9] == mark and board[5] == mark and board[1] == mark)) "
   ]
  },
  {
   "cell_type": "code",
   "execution_count": 5,
   "metadata": {},
   "outputs": [],
   "source": [
    "import random\n",
    "def chose_first():\n",
    "    if random.randint(0,1)==0:\n",
    "        return 'player1'\n",
    "    else:\n",
    "        return 'player2'"
   ]
  },
  {
   "cell_type": "code",
   "execution_count": 6,
   "metadata": {},
   "outputs": [],
   "source": [
    "def space_check(board, position):\n",
    "    return board[position]==' '"
   ]
  },
  {
   "cell_type": "code",
   "execution_count": 7,
   "metadata": {},
   "outputs": [],
   "source": [
    "def full_board_check(board):\n",
    "    for i in range(1,10):\n",
    "        if space_check(board, i):\n",
    "            return False\n",
    "    return True\n",
    "\n"
   ]
  },
  {
   "cell_type": "code",
   "execution_count": 8,
   "metadata": {},
   "outputs": [],
   "source": [
    "def player_choice(board):\n",
    "    position=0\n",
    "    while position not in [1,2,3,4,5,6,7,8,9] or not space_check(board,position):\n",
    "        position=int(input('Enter the position'))\n",
    "    return position"
   ]
  },
  {
   "cell_type": "code",
   "execution_count": 9,
   "metadata": {},
   "outputs": [],
   "source": [
    "def replay():\n",
    "    \n",
    "    return input('Do you want to play again? Enter Yes or No: ').lower().startswith('y')"
   ]
  },
  {
   "cell_type": "code",
   "execution_count": null,
   "metadata": {},
   "outputs": [
    {
     "name": "stdout",
     "output_type": "stream",
     "text": [
      "Welcome to Koustuv Tic-Tac-Toe Game\n",
      "Enter 1st Choice:x\n",
      "player2 will go first\n",
      "Are you ready to play? Enter Yes or No.y\n",
      " | | \n",
      " | | \n",
      " | | \n",
      "------\n",
      " | | \n",
      " | | \n",
      " | | \n",
      "------\n",
      " | | \n",
      " | | \n",
      " | | \n",
      "Enter the position1\n",
      " | | \n",
      "o| | \n",
      " | | \n",
      "------\n",
      " | | \n",
      " | | \n",
      " | | \n",
      "------\n",
      " | | \n",
      " | | \n",
      " | | \n",
      "Enter the position3\n",
      " | | \n",
      "o| |x\n",
      " | | \n",
      "------\n",
      " | | \n",
      " | | \n",
      " | | \n",
      "------\n",
      " | | \n",
      " | | \n",
      " | | \n",
      "Enter the position4\n",
      " | | \n",
      "o| |x\n",
      " | | \n",
      "------\n",
      " | | \n",
      "o| | \n",
      " | | \n",
      "------\n",
      " | | \n",
      " | | \n",
      " | | \n",
      "Enter the position6\n",
      " | | \n",
      "o| |x\n",
      " | | \n",
      "------\n",
      " | | \n",
      "o| |x\n",
      " | | \n",
      "------\n",
      " | | \n",
      " | | \n",
      " | | \n",
      "Enter the position7\n",
      " | | \n",
      "o| |x\n",
      " | | \n",
      "------\n",
      " | | \n",
      "o| |x\n",
      " | | \n",
      "------\n",
      " | | \n",
      "o| | \n",
      " | | \n",
      "Congratulations! You have won the game!\n"
     ]
    }
   ],
   "source": [
    "print('Welcome to Koustuv Tic-Tac-Toe Game')\n",
    "\n",
    "while True:\n",
    "    b = [' '] * 10\n",
    "    p1, p2 = player_input()\n",
    "    t = chose_first()\n",
    "    print('{} will go first'.format(t))\n",
    "    pg= input('Are you ready to play? Enter Yes or No.')\n",
    "    if pg[0]=='y':\n",
    "        gg=True\n",
    "    else:\n",
    "        gg=False\n",
    "    while gg:\n",
    "        if  t=='player1':\n",
    "            display_board(b)\n",
    "            l=player_choice(b)\n",
    "            place_marker(b,p1,l)\n",
    "            if win_check(b,p1):\n",
    "                display_board(b)\n",
    "                print('Congratulations! You have won the game!')\n",
    "                gg= False\n",
    "            else:\n",
    "                if full_board_check(b):\n",
    "                    display_board(b)\n",
    "                    print('The game is a draw!')\n",
    "                    break\n",
    "                else:\n",
    "                    t= 'player2'\n",
    "        else:\n",
    "                display_board(b)\n",
    "                l=player_choice(b)\n",
    "                place_marker(b,p2,l)\n",
    "                if win_check(b,p2)==True:\n",
    "                    display_board(b)\n",
    "                    print('Congratulations! You have won the game!')\n",
    "                    gg= False\n",
    "                else:\n",
    "                    if full_board_check(b):\n",
    "                        display_board(b)\n",
    "                        print('The game is a draw!')\n",
    "                        break\n",
    "                    else:\n",
    "                        t= 'player1'\n",
    "    if not replay():\n",
    "        break"
   ]
  },
  {
   "cell_type": "code",
   "execution_count": null,
   "metadata": {},
   "outputs": [],
   "source": []
  }
 ],
 "metadata": {
  "kernelspec": {
   "display_name": "Python 3",
   "language": "python",
   "name": "python3"
  },
  "language_info": {
   "codemirror_mode": {
    "name": "ipython",
    "version": 3
   },
   "file_extension": ".py",
   "mimetype": "text/x-python",
   "name": "python",
   "nbconvert_exporter": "python",
   "pygments_lexer": "ipython3",
   "version": "3.6.5"
  }
 },
 "nbformat": 4,
 "nbformat_minor": 2
}
